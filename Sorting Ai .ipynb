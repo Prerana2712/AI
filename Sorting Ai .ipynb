{
 "cells": [
  {
   "cell_type": "code",
   "execution_count": null,
   "id": "c1a83c19",
   "metadata": {},
   "outputs": [],
   "source": [
    "def bubbleSort(arr, size):\n",
    "    for i in range(size - 1):\n",
    "        for j in range(size - i - 1):\n",
    "            if arr[j] > arr[j + 1]:\n",
    "                swapped = True\n",
    "                arr[j], arr[j + 1] = arr[j + 1], arr[j]\n",
    "         \n",
    "        if not swapped:\n",
    "            # if we haven't needed to make a single swap, we\n",
    "            # can just exit the main loop.\n",
    "            return\n",
    "ch = 0\n",
    "n = 0\n",
    "arr = []\n",
    "while ch != 4:\n",
    "    ch = int(input(\"\\nEnter the function to perform\\n1)Create an array\\n2)Insert the elements in array\\n3)Perform Bubble sort and Display output\\n4)exit\\n(1,2,3,4):\"))\n",
    "    if ch == 1:\n",
    "        n = int(input(\"Enter the number of elements to be present in array: \"))\n",
    "        if n == 0:\n",
    "            print(\"List is empty\")\n",
    "            while n == 0:\n",
    "                n = int(input(\"\\nEnter the number of elements to be present in array: \"))\n",
    "                if n != 0:\n",
    "                    break\n",
    "    elif ch == 2:\n",
    "        print(\"\\nEnter values of array:\")\n",
    "        arr = [int(input()) for i in range(n)]\n",
    "        if n==1:\n",
    "            print(\"\\nSorted array is:\")\n",
    "            print(arr)\n",
    "    elif ch == 3:\n",
    "        bubbleSort(arr, n)\n",
    "        print(\"\\nSorted array is:\")\n",
    "        print(arr)\n",
    "    elif ch == 4:\n",
    "        print(\"Exit\")\n",
    "    else:\n",
    "        print(\"Wrong Choice\")\n"
   ]
  },
  {
   "cell_type": "code",
   "execution_count": null,
   "id": "ef1de1f8",
   "metadata": {},
   "outputs": [],
   "source": []
  },
  {
   "cell_type": "code",
   "execution_count": null,
   "id": "90be4d41",
   "metadata": {},
   "outputs": [],
   "source": []
  }
 ],
 "metadata": {
  "kernelspec": {
   "display_name": "Python 3 (ipykernel)",
   "language": "python",
   "name": "python3"
  },
  "language_info": {
   "codemirror_mode": {
    "name": "ipython",
    "version": 3
   },
   "file_extension": ".py",
   "mimetype": "text/x-python",
   "name": "python",
   "nbconvert_exporter": "python",
   "pygments_lexer": "ipython3",
   "version": "3.11.0"
  }
 },
 "nbformat": 4,
 "nbformat_minor": 5
}
