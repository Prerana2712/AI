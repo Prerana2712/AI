{
 "cells": [
  {
   "cell_type": "code",
   "execution_count": 1,
   "metadata": {},
   "outputs": [
    {
     "name": "stdout",
     "output_type": "stream",
     "text": [
      "Requirement already satisfied: nltk in c:\\users\\dell\\appdata\\local\\programs\\python\\python311\\lib\\site-packages (3.8.1)\n",
      "Requirement already satisfied: click in c:\\users\\dell\\appdata\\local\\programs\\python\\python311\\lib\\site-packages (from nltk) (8.1.3)\n",
      "Requirement already satisfied: joblib in c:\\users\\dell\\appdata\\local\\programs\\python\\python311\\lib\\site-packages (from nltk) (1.2.0)\n",
      "Requirement already satisfied: regex>=2021.8.3 in c:\\users\\dell\\appdata\\local\\programs\\python\\python311\\lib\\site-packages (from nltk) (2023.3.23)\n",
      "Requirement already satisfied: tqdm in c:\\users\\dell\\appdata\\local\\programs\\python\\python311\\lib\\site-packages (from nltk) (4.65.0)\n",
      "Requirement already satisfied: colorama in c:\\users\\dell\\appdata\\local\\programs\\python\\python311\\lib\\site-packages (from click->nltk) (0.4.6)\n",
      "Note: you may need to restart the kernel to use updated packages.\n"
     ]
    },
    {
     "name": "stderr",
     "output_type": "stream",
     "text": [
      "\n",
      "[notice] A new release of pip is available: 23.0.1 -> 23.1.1\n",
      "[notice] To update, run: python.exe -m pip install --upgrade pip\n"
     ]
    }
   ],
   "source": [
    "pip install nltk"
   ]
  },
  {
   "cell_type": "code",
   "execution_count": 2,
   "metadata": {
    "executionInfo": {
     "elapsed": 388,
     "status": "ok",
     "timestamp": 1682288390661,
     "user": {
      "displayName": "SOUMYA BETHI",
      "userId": "00024564421882715079"
     },
     "user_tz": -330
    },
    "id": "63CisR-tM5R6"
   },
   "outputs": [],
   "source": [
    "import nltk"
   ]
  },
  {
   "cell_type": "code",
   "execution_count": 3,
   "metadata": {
    "executionInfo": {
     "elapsed": 1192,
     "status": "ok",
     "timestamp": 1682288195359,
     "user": {
      "displayName": "SOUMYA BETHI",
      "userId": "00024564421882715079"
     },
     "user_tz": -330
    },
    "id": "aQpSbyZqL91D"
   },
   "outputs": [],
   "source": [
    "from nltk import word_tokenize , sent_tokenize"
   ]
  },
  {
   "cell_type": "code",
   "execution_count": 4,
   "metadata": {
    "colab": {
     "base_uri": "https://localhost:8080/"
    },
    "executionInfo": {
     "elapsed": 1216,
     "status": "ok",
     "timestamp": 1682288420931,
     "user": {
      "displayName": "SOUMYA BETHI",
      "userId": "00024564421882715079"
     },
     "user_tz": -330
    },
    "id": "h7CwoTs6M8ep",
    "outputId": "f2968cdf-2860-4d03-803a-230d370ef135"
   },
   "outputs": [
    {
     "name": "stderr",
     "output_type": "stream",
     "text": [
      "[nltk_data] Downloading package punkt to\n",
      "[nltk_data]     C:\\Users\\Dell\\AppData\\Roaming\\nltk_data...\n",
      "[nltk_data]   Package punkt is already up-to-date!\n"
     ]
    },
    {
     "data": {
      "text/plain": [
       "True"
      ]
     },
     "execution_count": 4,
     "metadata": {},
     "output_type": "execute_result"
    }
   ],
   "source": [
    "nltk.download('punkt')"
   ]
  },
  {
   "cell_type": "markdown",
   "metadata": {
    "id": "BlCgRg8yPMjC"
   },
   "source": [
    "**Tokenising and removing stopwords**"
   ]
  },
  {
   "cell_type": "code",
   "execution_count": 5,
   "metadata": {
    "colab": {
     "base_uri": "https://localhost:8080/"
    },
    "executionInfo": {
     "elapsed": 7,
     "status": "ok",
     "timestamp": 1682288429233,
     "user": {
      "displayName": "SOUMYA BETHI",
      "userId": "00024564421882715079"
     },
     "user_tz": -330
    },
    "id": "7O9Tr8_DML-K",
    "outputId": "4573c127-4ef5-47f8-9f95-58a263808532"
   },
   "outputs": [
    {
     "name": "stdout",
     "output_type": "stream",
     "text": [
      "['I', 'will', 'walk', '500', 'miles', 'and', 'I', 'would', 'walk', '500', 'more', ',', 'just', 'to', 'be', 'the', 'man', 'who', 'walks', 'a', 'thousand', 'miles', 'to', 'fall', 'down', 'at', 'your', 'door']\n",
      "['I will walk 500 miles and I would walk 500 more , just to be the man who walks a thousand miles to fall down at your door']\n"
     ]
    }
   ],
   "source": [
    "sent = \"I will walk 500 miles and I would walk 500 more , just to be the man who walks a thousand miles to fall down at your door\"\n",
    "print(word_tokenize(sent))\n",
    "print(sent_tokenize(sent))"
   ]
  },
  {
   "cell_type": "code",
   "execution_count": 6,
   "metadata": {
    "executionInfo": {
     "elapsed": 413,
     "status": "ok",
     "timestamp": 1682288503860,
     "user": {
      "displayName": "SOUMYA BETHI",
      "userId": "00024564421882715079"
     },
     "user_tz": -330
    },
    "id": "oCObpolNNOky"
   },
   "outputs": [],
   "source": [
    "from nltk.corpus import stopwords"
   ]
  },
  {
   "cell_type": "code",
   "execution_count": 7,
   "metadata": {
    "colab": {
     "base_uri": "https://localhost:8080/"
    },
    "executionInfo": {
     "elapsed": 398,
     "status": "ok",
     "timestamp": 1682288560790,
     "user": {
      "displayName": "SOUMYA BETHI",
      "userId": "00024564421882715079"
     },
     "user_tz": -330
    },
    "id": "8ojBX7RENhJJ",
    "outputId": "45d78ad5-3cbc-4930-aa58-616fe56d8586"
   },
   "outputs": [
    {
     "name": "stderr",
     "output_type": "stream",
     "text": [
      "[nltk_data] Downloading package stopwords to\n",
      "[nltk_data]     C:\\Users\\Dell\\AppData\\Roaming\\nltk_data...\n",
      "[nltk_data]   Package stopwords is already up-to-date!\n"
     ]
    },
    {
     "data": {
      "text/plain": [
       "True"
      ]
     },
     "execution_count": 7,
     "metadata": {},
     "output_type": "execute_result"
    }
   ],
   "source": [
    "nltk.download('stopwords')"
   ]
  },
  {
   "cell_type": "code",
   "execution_count": 8,
   "metadata": {
    "executionInfo": {
     "elapsed": 379,
     "status": "ok",
     "timestamp": 1682288564416,
     "user": {
      "displayName": "SOUMYA BETHI",
      "userId": "00024564421882715079"
     },
     "user_tz": -330
    },
    "id": "KWidICieNY4W"
   },
   "outputs": [],
   "source": [
    "stopwords = stopwords.words('english')"
   ]
  },
  {
   "cell_type": "code",
   "execution_count": 9,
   "metadata": {
    "colab": {
     "base_uri": "https://localhost:8080/"
    },
    "executionInfo": {
     "elapsed": 7,
     "status": "ok",
     "timestamp": 1682288579944,
     "user": {
      "displayName": "SOUMYA BETHI",
      "userId": "00024564421882715079"
     },
     "user_tz": -330
    },
    "id": "4z5Li4ZyNmZx",
    "outputId": "790339aa-36ea-47f8-89c9-38d7dabc909e"
   },
   "outputs": [
    {
     "name": "stdout",
     "output_type": "stream",
     "text": [
      "['i', 'me', 'my', 'myself', 'we', 'our', 'ours', 'ourselves', 'you', \"you're\", \"you've\", \"you'll\", \"you'd\", 'your', 'yours', 'yourself', 'yourselves', 'he', 'him', 'his', 'himself', 'she', \"she's\", 'her', 'hers', 'herself', 'it', \"it's\", 'its', 'itself', 'they', 'them', 'their', 'theirs', 'themselves', 'what', 'which', 'who', 'whom', 'this', 'that', \"that'll\", 'these', 'those', 'am', 'is', 'are', 'was', 'were', 'be', 'been', 'being', 'have', 'has', 'had', 'having', 'do', 'does', 'did', 'doing', 'a', 'an', 'the', 'and', 'but', 'if', 'or', 'because', 'as', 'until', 'while', 'of', 'at', 'by', 'for', 'with', 'about', 'against', 'between', 'into', 'through', 'during', 'before', 'after', 'above', 'below', 'to', 'from', 'up', 'down', 'in', 'out', 'on', 'off', 'over', 'under', 'again', 'further', 'then', 'once', 'here', 'there', 'when', 'where', 'why', 'how', 'all', 'any', 'both', 'each', 'few', 'more', 'most', 'other', 'some', 'such', 'no', 'nor', 'not', 'only', 'own', 'same', 'so', 'than', 'too', 'very', 's', 't', 'can', 'will', 'just', 'don', \"don't\", 'should', \"should've\", 'now', 'd', 'll', 'm', 'o', 're', 've', 'y', 'ain', 'aren', \"aren't\", 'couldn', \"couldn't\", 'didn', \"didn't\", 'doesn', \"doesn't\", 'hadn', \"hadn't\", 'hasn', \"hasn't\", 'haven', \"haven't\", 'isn', \"isn't\", 'ma', 'mightn', \"mightn't\", 'mustn', \"mustn't\", 'needn', \"needn't\", 'shan', \"shan't\", 'shouldn', \"shouldn't\", 'wasn', \"wasn't\", 'weren', \"weren't\", 'won', \"won't\", 'wouldn', \"wouldn't\"]\n"
     ]
    }
   ],
   "source": [
    "print(stopwords)"
   ]
  },
  {
   "cell_type": "code",
   "execution_count": 10,
   "metadata": {
    "executionInfo": {
     "elapsed": 408,
     "status": "ok",
     "timestamp": 1682288763290,
     "user": {
      "displayName": "SOUMYA BETHI",
      "userId": "00024564421882715079"
     },
     "user_tz": -330
    },
    "id": "IayG01IWN9VB"
   },
   "outputs": [],
   "source": [
    "tokens = word_tokenize(sent)\n",
    "\n",
    "cleaned_token = []\n",
    "\n",
    "for word in tokens:\n",
    "  if word not in stopwords:\n",
    "    cleaned_token.append(word)"
   ]
  },
  {
   "cell_type": "code",
   "execution_count": 11,
   "metadata": {
    "colab": {
     "base_uri": "https://localhost:8080/"
    },
    "executionInfo": {
     "elapsed": 374,
     "status": "ok",
     "timestamp": 1682288777305,
     "user": {
      "displayName": "SOUMYA BETHI",
      "userId": "00024564421882715079"
     },
     "user_tz": -330
    },
    "id": "C1_WRqZJOWea",
    "outputId": "9f6c7d3a-32d9-48fc-9567-d70924c67184"
   },
   "outputs": [
    {
     "name": "stdout",
     "output_type": "stream",
     "text": [
      "['I', 'walk', '500', 'miles', 'I', 'would', 'walk', '500', ',', 'man', 'walks', 'thousand', 'miles', 'fall', 'door']\n"
     ]
    }
   ],
   "source": [
    "print(cleaned_token)"
   ]
  },
  {
   "cell_type": "markdown",
   "metadata": {
    "id": "jFeEwjoEPVvq"
   },
   "source": [
    "**Stemming**"
   ]
  },
  {
   "cell_type": "code",
   "execution_count": 12,
   "metadata": {
    "executionInfo": {
     "elapsed": 382,
     "status": "ok",
     "timestamp": 1682289300406,
     "user": {
      "displayName": "SOUMYA BETHI",
      "userId": "00024564421882715079"
     },
     "user_tz": -330
    },
    "id": "4hKkucwCPZKM"
   },
   "outputs": [],
   "source": [
    "from nltk.stem import PorterStemmer\n",
    "stemmer = PorterStemmer()"
   ]
  },
  {
   "cell_type": "code",
   "execution_count": 13,
   "metadata": {
    "colab": {
     "base_uri": "https://localhost:8080/"
    },
    "executionInfo": {
     "elapsed": 392,
     "status": "ok",
     "timestamp": 1682289302622,
     "user": {
      "displayName": "SOUMYA BETHI",
      "userId": "00024564421882715079"
     },
     "user_tz": -330
    },
    "id": "SUOiGUrOPllq",
    "outputId": "a444c619-3f46-46b3-e332-bbee3e0f5435"
   },
   "outputs": [
    {
     "name": "stdout",
     "output_type": "stream",
     "text": [
      "i play the play play as the player were play in the play with playful \n"
     ]
    }
   ],
   "source": [
    "sent2 = \"I played the play playfully as the players were playing in the play with playfullness \"\n",
    "tokens2 = word_tokenize(sent2)\n",
    "stemmed = \"\"\n",
    "\n",
    "for words in tokens2:\n",
    "\n",
    "  stemmed += stemmer.stem(words) + \" \"\n",
    "\n",
    "print(stemmed)"
   ]
  },
  {
   "cell_type": "markdown",
   "metadata": {
    "id": "NUcDkN9MRI8c"
   },
   "source": [
    "**Snow-ball Stemmer**"
   ]
  },
  {
   "cell_type": "code",
   "execution_count": 14,
   "metadata": {
    "executionInfo": {
     "elapsed": 400,
     "status": "ok",
     "timestamp": 1682289668736,
     "user": {
      "displayName": "SOUMYA BETHI",
      "userId": "00024564421882715079"
     },
     "user_tz": -330
    },
    "id": "ZP6GELsNQc27"
   },
   "outputs": [],
   "source": [
    "from nltk.stem.snowball import SnowballStemmer\n",
    "\n",
    "snow_stemmer = SnowballStemmer(language='english')"
   ]
  },
  {
   "cell_type": "code",
   "execution_count": 15,
   "metadata": {
    "colab": {
     "base_uri": "https://localhost:8080/"
    },
    "executionInfo": {
     "elapsed": 374,
     "status": "ok",
     "timestamp": 1682289917068,
     "user": {
      "displayName": "SOUMYA BETHI",
      "userId": "00024564421882715079"
     },
     "user_tz": -330
    },
    "id": "zQ6__ws9Rzky",
    "outputId": "efb552f4-d7b3-4793-fa3d-b10d621a1534"
   },
   "outputs": [
    {
     "name": "stdout",
     "output_type": "stream",
     "text": [
      "['i', 'play', 'the', 'play', 'play', 'as', 'the', 'player', 'were', 'play', 'in', 'the', 'play', 'with', 'playful']\n",
      "I ---> i\n",
      "played ---> play\n",
      "the ---> the\n",
      "play ---> play\n",
      "playfully ---> play\n",
      "as ---> as\n",
      "the ---> the\n",
      "players ---> player\n",
      "were ---> were\n",
      "playing ---> play\n",
      "in ---> in\n",
      "the ---> the\n",
      "play ---> play\n",
      "with ---> with\n",
      "playfullness ---> playful\n"
     ]
    }
   ],
   "source": [
    "sent3 = \"I played the play playfully as the players were playing in the play with playfullness \"\n",
    "tokens3 = word_tokenize(sent3)\n",
    "\n",
    "stem_words = []\n",
    "\n",
    "for words in tokens3:\n",
    "  stem_words.append(snow_stemmer.stem(words))\n",
    "\n",
    "print(stem_words)\n",
    "\n",
    "for e1,e2 in zip(tokens3,stem_words):\n",
    "  print(e1 + \" ---> \" + e2)\n"
   ]
  },
  {
   "cell_type": "markdown",
   "metadata": {
    "id": "JWxJfAR1UFE6"
   },
   "source": [
    "**Tagging Parts of Speech (POS)**"
   ]
  },
  {
   "cell_type": "code",
   "execution_count": 16,
   "metadata": {
    "colab": {
     "base_uri": "https://localhost:8080/"
    },
    "executionInfo": {
     "elapsed": 462,
     "status": "ok",
     "timestamp": 1682290369146,
     "user": {
      "displayName": "SOUMYA BETHI",
      "userId": "00024564421882715079"
     },
     "user_tz": -330
    },
    "id": "f4rf1ceeS10i",
    "outputId": "393262c5-4a60-4f7e-8f7b-04ce362bcf6a"
   },
   "outputs": [
    {
     "name": "stderr",
     "output_type": "stream",
     "text": [
      "[nltk_data] Downloading package averaged_perceptron_tagger to\n",
      "[nltk_data]     C:\\Users\\Dell\\AppData\\Roaming\\nltk_data...\n",
      "[nltk_data]   Package averaged_perceptron_tagger is already up-to-\n",
      "[nltk_data]       date!\n"
     ]
    },
    {
     "data": {
      "text/plain": [
       "True"
      ]
     },
     "execution_count": 16,
     "metadata": {},
     "output_type": "execute_result"
    }
   ],
   "source": [
    "from nltk import pos_tag\n",
    "nltk.download('averaged_perceptron_tagger')\n"
   ]
  },
  {
   "cell_type": "code",
   "execution_count": 17,
   "metadata": {
    "colab": {
     "base_uri": "https://localhost:8080/"
    },
    "executionInfo": {
     "elapsed": 4,
     "status": "ok",
     "timestamp": 1682290392163,
     "user": {
      "displayName": "SOUMYA BETHI",
      "userId": "00024564421882715079"
     },
     "user_tz": -330
    },
    "id": "xxr6fAnpUhlE",
    "outputId": "fc4fcc25-8d23-4f36-ac64-eda5286c8e97"
   },
   "outputs": [
    {
     "name": "stdout",
     "output_type": "stream",
     "text": [
      "[('I', 'PRP'), ('walk', 'VBP'), ('500', 'CD'), ('miles', 'NNS'), ('I', 'PRP'), ('would', 'MD'), ('walk', 'VB'), ('500', 'CD'), (',', ','), ('man', 'NN'), ('walks', 'NNS'), ('thousand', 'VBP'), ('miles', 'NNS'), ('fall', 'VB'), ('door', 'NN')]\n"
     ]
    }
   ],
   "source": [
    "tagged = pos_tag(cleaned_token)\n",
    "print(tagged)"
   ]
  },
  {
   "cell_type": "markdown",
   "metadata": {
    "id": "xNdUpe-kUr8r"
   },
   "source": [
    "**Lemmatization**"
   ]
  },
  {
   "cell_type": "code",
   "execution_count": 18,
   "metadata": {
    "colab": {
     "base_uri": "https://localhost:8080/"
    },
    "executionInfo": {
     "elapsed": 401,
     "status": "ok",
     "timestamp": 1682290560690,
     "user": {
      "displayName": "SOUMYA BETHI",
      "userId": "00024564421882715079"
     },
     "user_tz": -330
    },
    "id": "GLZ4cmLyU0WT",
    "outputId": "25d7c07e-844c-43e0-b989-20f299e3c5d9"
   },
   "outputs": [
    {
     "name": "stderr",
     "output_type": "stream",
     "text": [
      "[nltk_data] Downloading package wordnet to\n",
      "[nltk_data]     C:\\Users\\Dell\\AppData\\Roaming\\nltk_data...\n",
      "[nltk_data]   Package wordnet is already up-to-date!\n"
     ]
    },
    {
     "data": {
      "text/plain": [
       "True"
      ]
     },
     "execution_count": 18,
     "metadata": {},
     "output_type": "execute_result"
    }
   ],
   "source": [
    "nltk.download('wordnet')"
   ]
  },
  {
   "cell_type": "code",
   "execution_count": 19,
   "metadata": {
    "executionInfo": {
     "elapsed": 388,
     "status": "ok",
     "timestamp": 1682290604528,
     "user": {
      "displayName": "SOUMYA BETHI",
      "userId": "00024564421882715079"
     },
     "user_tz": -330
    },
    "id": "9Y6v5P5gVOkr"
   },
   "outputs": [],
   "source": [
    "from nltk.stem import WordNetLemmatizer\n",
    "\n",
    "obj = WordNetLemmatizer()"
   ]
  },
  {
   "cell_type": "code",
   "execution_count": 20,
   "metadata": {
    "colab": {
     "base_uri": "https://localhost:8080/"
    },
    "executionInfo": {
     "elapsed": 2146,
     "status": "ok",
     "timestamp": 1682290677565,
     "user": {
      "displayName": "SOUMYA BETHI",
      "userId": "00024564421882715079"
     },
     "user_tz": -330
    },
    "id": "ZcG_IEg4VYt7",
    "outputId": "c7882c17-e52f-46df-f17c-67ec0a609672"
   },
   "outputs": [
    {
     "name": "stdout",
     "output_type": "stream",
     "text": [
      "I ---> I\n",
      "walk ---> walk\n",
      "500 ---> 500\n",
      "miles ---> mile\n",
      "I ---> I\n",
      "would ---> would\n",
      "walk ---> walk\n",
      "500 ---> 500\n",
      ", ---> ,\n",
      "man ---> man\n",
      "walks ---> walk\n",
      "thousand ---> thousand\n",
      "miles ---> mile\n",
      "fall ---> fall\n",
      "door ---> door\n"
     ]
    }
   ],
   "source": [
    "for words in cleaned_token:\n",
    "\n",
    "  print(words + \" ---> \" + obj.lemmatize(words))"
   ]
  },
  {
   "cell_type": "markdown",
   "metadata": {
    "id": "fgCYnQnrVtNL"
   },
   "source": [
    "**Sample example of lemmatization**"
   ]
  },
  {
   "cell_type": "code",
   "execution_count": 21,
   "metadata": {
    "colab": {
     "base_uri": "https://localhost:8080/"
    },
    "executionInfo": {
     "elapsed": 467,
     "status": "ok",
     "timestamp": 1682290833104,
     "user": {
      "displayName": "SOUMYA BETHI",
      "userId": "00024564421882715079"
     },
     "user_tz": -330
    },
    "id": "464Vy-vzVsRD",
    "outputId": "f8d73098-6dcc-473b-d528-968d9d219cf5"
   },
   "outputs": [
    {
     "name": "stdout",
     "output_type": "stream",
     "text": [
      "kites ---> kite\n",
      "babies ---> baby\n",
      "dogs ---> dog\n",
      "flying ---> flying\n",
      "smiling ---> smiling\n",
      "driving ---> driving\n",
      "died ---> died\n",
      "tried ---> tried\n",
      "feet ---> foot\n"
     ]
    }
   ],
   "source": [
    "list1 = [\"kites\" , \"babies\" , \"dogs\" , \"flying\" , \"smiling\" , \"driving\" , \"died\" , \"tried\" , \"feet\"] \n",
    "\n",
    "for words in list1:\n",
    "\n",
    "  print(words + \" ---> \" + obj.lemmatize(words))"
   ]
  },
  {
   "cell_type": "code",
   "execution_count": null,
   "metadata": {},
   "outputs": [],
   "source": []
  }
 ],
 "metadata": {
  "colab": {
   "authorship_tag": "ABX9TyPIDmdlJKD0MiZY0LnlHNl3",
   "provenance": []
  },
  "kernelspec": {
   "display_name": "Python 3 (ipykernel)",
   "language": "python",
   "name": "python3"
  },
  "language_info": {
   "codemirror_mode": {
    "name": "ipython",
    "version": 3
   },
   "file_extension": ".py",
   "mimetype": "text/x-python",
   "name": "python",
   "nbconvert_exporter": "python",
   "pygments_lexer": "ipython3",
   "version": "3.11.0"
  }
 },
 "nbformat": 4,
 "nbformat_minor": 1
}
