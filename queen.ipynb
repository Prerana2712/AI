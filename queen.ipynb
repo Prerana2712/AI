{
 "cells": [
  {
   "cell_type": "code",
   "execution_count": 16,
   "id": "19582771",
   "metadata": {},
   "outputs": [
    {
     "name": "stdout",
     "output_type": "stream",
     "text": [
      "Enter the number of queens : 8\n",
      "[0, 7, 4, 7, 5, 2, 1, 3]\n"
     ]
    }
   ],
   "source": [
    "import random\n",
    "# Number of queens\n",
    "n=int(input(\"Enter the number of queens : \"))\n",
    "\n",
    "# Generate initial state\n",
    "def generate_state(n):\n",
    "    state = []\n",
    "    for i in range(n):\n",
    "        state.append(random.randint(0, n-1))\n",
    "    return state\n",
    "\n",
    "# Evaluate the state\n",
    "def evaluate(state):\n",
    "    conflicts = 0\n",
    "    for i in range(len(state)):\n",
    "        for j in range(i+1, len(state)):\n",
    "            if state[i] == state[j] or abs(state[i] - state[j]) == j - i:\n",
    "                conflicts += 1\n",
    "    return conflicts\n",
    "\n",
    "# Generate a neighbor\n",
    "def generate_neighbor(state):\n",
    "    neighbor = state.copy()\n",
    "    i = random.randint(0, n-1)\n",
    "    j = random.randint(0, n-1)\n",
    "    neighbor[i] = j\n",
    "    return neighbor\n",
    "\n",
    "# Hill climbing algorithm\n",
    "def hill_climbing(n):\n",
    "    current = generate_state(n)\n",
    "    while True:\n",
    "        neighbors = []\n",
    "        for i in range(n):\n",
    "            neighbor = generate_neighbor(current)\n",
    "            neighbors.append(neighbor)\n",
    "        neighbors_evaluated = [(evaluate(neighbor), neighbor) for neighbor in neighbors]\n",
    "        neighbors_evaluated.sort()\n",
    "        if neighbors_evaluated[0][0] >= evaluate(current):\n",
    "            break\n",
    "        current = neighbors_evaluated[0][1]\n",
    "    return current\n",
    "\n",
    "# Run the algorithm\n",
    "solution = hill_climbing(n)\n",
    "print(solution)\n"
   ]
  },
  {
   "cell_type": "code",
   "execution_count": null,
   "id": "4575e96e",
   "metadata": {},
   "outputs": [],
   "source": []
  },
  {
   "cell_type": "code",
   "execution_count": null,
   "id": "5bcd3c48",
   "metadata": {},
   "outputs": [],
   "source": []
  },
  {
   "cell_type": "code",
   "execution_count": null,
   "id": "d06dcf04",
   "metadata": {},
   "outputs": [],
   "source": []
  }
 ],
 "metadata": {
  "kernelspec": {
   "display_name": "Python 3 (ipykernel)",
   "language": "python",
   "name": "python3"
  },
  "language_info": {
   "codemirror_mode": {
    "name": "ipython",
    "version": 3
   },
   "file_extension": ".py",
   "mimetype": "text/x-python",
   "name": "python",
   "nbconvert_exporter": "python",
   "pygments_lexer": "ipython3",
   "version": "3.11.0"
  }
 },
 "nbformat": 4,
 "nbformat_minor": 5
}
